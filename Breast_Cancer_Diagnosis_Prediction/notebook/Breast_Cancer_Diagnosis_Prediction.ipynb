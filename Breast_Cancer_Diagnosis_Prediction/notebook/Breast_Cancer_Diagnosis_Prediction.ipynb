{
 "cells": [
  {
   "cell_type": "markdown",
   "id": "7741b99b",
   "metadata": {},
   "source": [
    "## Breast Cancer Diagnosis Prediction:\n",
    "\n",
    "The goal is to predict whether a tumor is Malignant (M) or Benign (B) based on digitized image features.This project uses Logistic Regression—a simple, interpretable model—and includes all necessary steps from data exploration to model interpretation."
   ]
  },
  {
   "cell_type": "markdown",
   "id": "a317d5b9",
   "metadata": {},
   "source": [
    "## 1. Data Loading and Initial Exploration\n",
    "The first step is to load the data and inspect its structure, data types, and check for missing values or anomalies."
   ]
  },
  {
   "cell_type": "code",
   "execution_count": 1,
   "id": "fc5b2239",
   "metadata": {},
   "outputs": [
    {
     "name": "stdout",
     "output_type": "stream",
     "text": [
      "--- Initial Data Snapshot (Head) ---\n",
      "         id diagnosis  radius_mean  texture_mean  perimeter_mean  area_mean  \\\n",
      "0    842302         M        17.99         10.38          122.80     1001.0   \n",
      "1    842517         M        20.57         17.77          132.90     1326.0   \n",
      "2  84300903         M        19.69         21.25          130.00     1203.0   \n",
      "3  84348301         M        11.42         20.38           77.58      386.1   \n",
      "4  84358402         M        20.29         14.34          135.10     1297.0   \n",
      "\n",
      "   smoothness_mean  compactness_mean  concavity_mean  concave points_mean  \\\n",
      "0          0.11840           0.27760          0.3001              0.14710   \n",
      "1          0.08474           0.07864          0.0869              0.07017   \n",
      "2          0.10960           0.15990          0.1974              0.12790   \n",
      "3          0.14250           0.28390          0.2414              0.10520   \n",
      "4          0.10030           0.13280          0.1980              0.10430   \n",
      "\n",
      "   ...  texture_worst  perimeter_worst  area_worst  smoothness_worst  \\\n",
      "0  ...          17.33           184.60      2019.0            0.1622   \n",
      "1  ...          23.41           158.80      1956.0            0.1238   \n",
      "2  ...          25.53           152.50      1709.0            0.1444   \n",
      "3  ...          26.50            98.87       567.7            0.2098   \n",
      "4  ...          16.67           152.20      1575.0            0.1374   \n",
      "\n",
      "   compactness_worst  concavity_worst  concave points_worst  symmetry_worst  \\\n",
      "0             0.6656           0.7119                0.2654          0.4601   \n",
      "1             0.1866           0.2416                0.1860          0.2750   \n",
      "2             0.4245           0.4504                0.2430          0.3613   \n",
      "3             0.8663           0.6869                0.2575          0.6638   \n",
      "4             0.2050           0.4000                0.1625          0.2364   \n",
      "\n",
      "   fractal_dimension_worst  Unnamed: 32  \n",
      "0                  0.11890          NaN  \n",
      "1                  0.08902          NaN  \n",
      "2                  0.08758          NaN  \n",
      "3                  0.17300          NaN  \n",
      "4                  0.07678          NaN  \n",
      "\n",
      "[5 rows x 33 columns]\n",
      "\n",
      "--- Data Information (Info) ---\n",
      "<class 'pandas.core.frame.DataFrame'>\n",
      "RangeIndex: 569 entries, 0 to 568\n",
      "Data columns (total 33 columns):\n",
      " #   Column                   Non-Null Count  Dtype  \n",
      "---  ------                   --------------  -----  \n",
      " 0   id                       569 non-null    int64  \n",
      " 1   diagnosis                569 non-null    object \n",
      " 2   radius_mean              569 non-null    float64\n",
      " 3   texture_mean             569 non-null    float64\n",
      " 4   perimeter_mean           569 non-null    float64\n",
      " 5   area_mean                569 non-null    float64\n",
      " 6   smoothness_mean          569 non-null    float64\n",
      " 7   compactness_mean         569 non-null    float64\n",
      " 8   concavity_mean           569 non-null    float64\n",
      " 9   concave points_mean      569 non-null    float64\n",
      " 10  symmetry_mean            569 non-null    float64\n",
      " 11  fractal_dimension_mean   569 non-null    float64\n",
      " 12  radius_se                569 non-null    float64\n",
      " 13  texture_se               569 non-null    float64\n",
      " 14  perimeter_se             569 non-null    float64\n",
      " 15  area_se                  569 non-null    float64\n",
      " 16  smoothness_se            569 non-null    float64\n",
      " 17  compactness_se           569 non-null    float64\n",
      " 18  concavity_se             569 non-null    float64\n",
      " 19  concave points_se        569 non-null    float64\n",
      " 20  symmetry_se              569 non-null    float64\n",
      " 21  fractal_dimension_se     569 non-null    float64\n",
      " 22  radius_worst             569 non-null    float64\n",
      " 23  texture_worst            569 non-null    float64\n",
      " 24  perimeter_worst          569 non-null    float64\n",
      " 25  area_worst               569 non-null    float64\n",
      " 26  smoothness_worst         569 non-null    float64\n",
      " 27  compactness_worst        569 non-null    float64\n",
      " 28  concavity_worst          569 non-null    float64\n",
      " 29  concave points_worst     569 non-null    float64\n",
      " 30  symmetry_worst           569 non-null    float64\n",
      " 31  fractal_dimension_worst  569 non-null    float64\n",
      " 32  Unnamed: 32              0 non-null      float64\n",
      "dtypes: float64(31), int64(1), object(1)\n",
      "memory usage: 146.8+ KB\n",
      "None\n",
      "\n",
      "--- Descriptive Statistics (Sample) ---\n",
      "        radius_mean  texture_mean diagnosis\n",
      "count    569.000000    569.000000       569\n",
      "unique          NaN           NaN         2\n",
      "top             NaN           NaN         B\n",
      "freq            NaN           NaN       357\n",
      "mean      14.127292     19.289649       NaN\n",
      "std        3.524049      4.301036       NaN\n",
      "min        6.981000      9.710000       NaN\n",
      "25%       11.700000     16.170000       NaN\n",
      "50%       13.370000     18.840000       NaN\n",
      "75%       15.780000     21.800000       NaN\n",
      "max       28.110000     39.280000       NaN\n",
      "\n",
      "--- Count of Missing Values per Column ---\n",
      "Unnamed: 32                569\n",
      "compactness_se               0\n",
      "fractal_dimension_worst      0\n",
      "symmetry_worst               0\n",
      "concave points_worst         0\n",
      "dtype: int64\n",
      "\n",
      "--- Unique values in Target Variable 'diagnosis' ---\n",
      "['M' 'B']\n"
     ]
    }
   ],
   "source": [
    "import pandas as pd\n",
    "import numpy as np\n",
    "\n",
    "# Data Visualization\n",
    "import matplotlib.pyplot as plt\n",
    "import seaborn as sns\n",
    "\n",
    "# Machine Learning\n",
    "from sklearn.model_selection import train_test_split\n",
    "from sklearn.preprocessing import StandardScaler\n",
    "from sklearn.linear_model import LogisticRegression\n",
    "from sklearn.metrics import confusion_matrix, classification_report, roc_auc_score, roc_curve\n",
    "\n",
    "# Load the dataset\n",
    "df = pd.read_csv('data.csv')\n",
    "\n",
    "print(\"--- Initial Data Snapshot (Head) ---\")\n",
    "print(df.head())\n",
    "\n",
    "print(\"\\n--- Data Information (Info) ---\")\n",
    "print(df.info())\n",
    "\n",
    "print(\"\\n--- Descriptive Statistics (Sample) ---\")\n",
    "print(df[['radius_mean', 'texture_mean', 'diagnosis']].describe(include='all'))\n",
    "\n",
    "print(\"\\n--- Count of Missing Values per Column ---\")\n",
    "print(df.isnull().sum().sort_values(ascending=False).head())\n",
    "\n",
    "print(\"\\n--- Unique values in Target Variable 'diagnosis' ---\")\n",
    "print(df['diagnosis'].unique())"
   ]
  },
  {
   "cell_type": "markdown",
   "id": "be3e42cc",
   "metadata": {},
   "source": [
    "Initial Findings and Insights"
   ]
  },
  {
   "cell_type": "markdown",
   "id": "51644f78",
   "metadata": {},
   "source": [
    "- The dataset contains **569 entries** and **33 columns**.\n",
    "\n",
    "- **Target Variable:** `diagnosis` (object type) has two classes:\n",
    "    - `'M'` = Malignant\n",
    "    - `'B'` = Benign  \n",
    "  *(Suitable for binary classification)*\n",
    "\n",
    "- **Missing Data:**\n",
    "    - All relevant feature columns are **complete** (569 non-null values).\n",
    "    - An empty column, `Unnamed: 32`, is **entirely null** (0 non-null values) and should be **dropped**.\n",
    "\n",
    "- **Identifier:**\n",
    "    - The `id` column is a **unique identifier** and should be **dropped before modeling**."
   ]
  },
  {
   "cell_type": "markdown",
   "id": "d394d224",
   "metadata": {},
   "source": [
    "## 2. Data Cleaning and Preprocessing"
   ]
  },
  {
   "cell_type": "markdown",
   "id": "1783ab9a",
   "metadata": {},
   "source": [
    "We'll clean the data by dropping irrelevant columns, encoding the categorical target variable, and scaling the features."
   ]
  },
  {
   "cell_type": "code",
   "execution_count": 2,
   "id": "83aad1d3",
   "metadata": {},
   "outputs": [
    {
     "name": "stdout",
     "output_type": "stream",
     "text": [
      "Shape of X_train_scaled: (398, 30)\n",
      "Shape of X_test_scaled: (171, 30)\n",
      "\n",
      "First 5 rows of scaled training data (as an array):\n",
      "[[ 1.70581999  1.04974466  2.12129465  1.66933676  2.27645789  4.54429486\n",
      "   3.53913939  2.84839268  4.03238962  2.63977264  1.88658218  1.20005314\n",
      "   2.87275048  1.74921741  1.19777257  2.41558743  2.3247057   2.29784843\n",
      "   6.94476933  0.82740765  1.45951037  0.94958949  1.86817555  1.3068397\n",
      "   1.33538327  2.31385505  2.34642696  2.04939907  3.94428119  0.86655367]\n",
      " [ 0.53638811 -0.90994477  0.5690952   0.39031555 -0.06586788  0.64494486\n",
      "   0.39354254  0.55700173 -0.11678098 -0.40152959 -0.25041371 -0.84442436\n",
      "  -0.11857378 -0.16149227 -0.37614552  0.40854639  0.14771626  0.48165509\n",
      "  -0.68243869 -0.23809862  0.50829368 -0.64531469  0.50191659  0.33008672\n",
      "   0.47701253  1.24209126  1.05257355  1.25584994  0.16797759  0.40524244]\n",
      " [-0.13145612 -0.99333581 -0.14884823 -0.21154347 -0.91616898 -0.50857386\n",
      "  -0.56752982 -0.60664497 -0.07986666 -0.51245428 -0.95807347 -1.2145298\n",
      "  -0.87783349 -0.66531468 -0.59346476  0.26263059 -0.23715248 -0.51677077\n",
      "  -0.26595611  0.41139177 -0.36245131 -1.02848469 -0.28041517 -0.39938703\n",
      "  -0.19621941  0.36866098 -0.08079455 -0.14001353  0.74198821  0.68752098]\n",
      " [ 0.92807734  1.41805508  0.92540484  0.82854593  0.32973419  0.22374766\n",
      "   0.98318775  0.44394722 -1.86652019 -0.55598169  0.44143242  0.80819795\n",
      "   0.44689582  0.41909869  8.38975683  3.37717812  3.37462278  4.43435806\n",
      "   0.15764583  3.27108269  0.36592069  0.35190979  0.38608159  0.24353898\n",
      "  -0.3308658  -0.46472119  0.03031066 -0.07225317 -2.04071547 -0.86116674]\n",
      " [ 0.14469888 -0.97248805  0.15831525 -0.00969706  1.20575985  0.58504125\n",
      "   0.13770066  0.56285816  1.11615761  0.1179911   0.37638091 -0.86311837\n",
      "   0.47025002  0.05663157 -0.49087067  1.06097449  0.36586906  0.74431445\n",
      "   0.45665897  0.40135385  0.00895651 -1.2577317   0.05936749 -0.14045035\n",
      "  -0.18780401  0.35912571 -0.06417625  0.37647101  0.3738727   0.04772623]]\n"
     ]
    }
   ],
   "source": [
    "# --- Data Cleaning: Drop unnecessary columns ---\n",
    "# 'id' is an identifier, and 'Unnamed: 32' is an empty column.\n",
    "df_clean = df.drop(columns=['id', 'Unnamed: 32'])\n",
    "\n",
    "# --- Target Variable Encoding: Convert 'M' (Malignant) and 'B' (Benign) to 1 and 0 ---\n",
    "# 'M' is associated with the positive class (Malignant).\n",
    "df_clean['diagnosis_encoded'] = df_clean['diagnosis'].map({'M': 1, 'B': 0})\n",
    "df_clean = df_clean.drop(columns=['diagnosis']) # Drop original column\n",
    "\n",
    "# --- Separate Features (X) and Target (y) ---\n",
    "X = df_clean.drop(columns=['diagnosis_encoded'])\n",
    "y = df_clean['diagnosis_encoded']\n",
    "\n",
    "# --- Split Data into Training and Testing Sets ---\n",
    "# Stratify ensures the train/test split maintains the original class proportion.\n",
    "X_train, X_test, y_train, y_test = train_test_split(X, y, test_size=0.3, random_state=42, stratify=y)\n",
    "\n",
    "# --- Feature Scaling (Standardization) ---\n",
    "# Standardization (Z-score scaling) is crucial for distance-based and regularization-based models like Logistic Regression.\n",
    "scaler = StandardScaler()\n",
    "\n",
    "# Fit the scaler only on the training data to prevent data leakage\n",
    "X_train_scaled = scaler.fit_transform(X_train)\n",
    "\n",
    "# Transform both training and testing data\n",
    "X_test_scaled = scaler.transform(X_test)\n",
    "\n",
    "print(\"Shape of X_train_scaled:\", X_train_scaled.shape)\n",
    "print(\"Shape of X_test_scaled:\", X_test_scaled.shape)\n",
    "print(\"\\nFirst 5 rows of scaled training data (as an array):\")\n",
    "print(X_train_scaled[:5])"
   ]
  },
  {
   "cell_type": "markdown",
   "id": "8545dae7",
   "metadata": {},
   "source": [
    "## 3. Exploratory Data Analysis (EDA) and Insights"
   ]
  },
  {
   "cell_type": "markdown",
   "id": "458908b7",
   "metadata": {},
   "source": [
    "Insight 1: Target Class Distribution\n",
    "\n",
    "The target variable distribution reveals the balance of the dataset."
   ]
  },
  {
   "cell_type": "code",
   "execution_count": 5,
   "id": "21c0ee20",
   "metadata": {},
   "outputs": [
    {
     "data": {
      "image/png": "[encoded data removed]",
      "text/plain": [
       "<Figure size 432x288 with 1 Axes>"
      ]
     },
     "metadata": {
      "needs_background": "light"
     },
     "output_type": "display_data"
    }
   ],
   "source": [
    "plt.figure(figsize=(6, 4))\n",
    "ax = sns.countplot(x='diagnosis_encoded', data=df_clean, palette='viridis')\n",
    "plt.title('Distribution of Diagnosis (0=Benign, 1=Malignant)')\n",
    "plt.xlabel('Diagnosis (0: Benign, 1: Malignant)')\n",
    "plt.ylabel('Count')\n",
    "# Add counts on top of bars\n",
    "for p in ax.patches:\n",
    "    ax.annotate(f'{p.get_height()}', (p.get_x() + p.get_width() / 2., p.get_height()),\n",
    "                ha='center', va='center', fontsize=10, color='black', xytext=(0, 5),\n",
    "                textcoords='offset points')\n",
    "#plt.savefig('diagnosis_distribution.png')\n",
    "#plt.close()"
   ]
  },
  {
   "cell_type": "markdown",
   "id": "53117bb6",
   "metadata": {},
   "source": [
    "Observation: The dataset shows a slight imbalance: 357 Benign (0) cases versus 212 Malignant (1) cases. This is a common situation, and the model must perform well on the minority class (Malignant)."
   ]
  },
  {
   "cell_type": "markdown",
   "id": "82ce2ff1",
   "metadata": {},
   "source": [
    "Insight 2: Feature Comparison by Diagnosis"
   ]
  },
  {
   "cell_type": "markdown",
   "id": "b867f9a4",
   "metadata": {},
   "source": [
    "Box plots help visualize how key features differ between the two target classes."
   ]
  },
  {
   "cell_type": "code",
   "execution_count": 7,
   "id": "82c7077a",
   "metadata": {},
   "outputs": [
    {
     "data": {
      "image/png": "[encoded data removed]",
      "text/plain": [
       "<Figure size 864x360 with 2 Axes>"
      ]
     },
     "metadata": {
      "needs_background": "light"
     },
     "output_type": "display_data"
    }
   ],
   "source": [
    "selected_features = ['radius_mean', 'texture_mean']\n",
    "plt.figure(figsize=(12, 5))\n",
    "\n",
    "for i, feature in enumerate(selected_features):\n",
    "    plt.subplot(1, 2, i + 1)\n",
    "    sns.boxplot(x='diagnosis_encoded', y=feature, data=df_clean, palette='pastel')\n",
    "    plt.title(f'Diagnosis vs. {feature.replace(\"_\", \" \").title()}')\n",
    "    plt.xlabel('Diagnosis (0: Benign, 1: Malignant)')\n",
    "    plt.ylabel(feature.replace(\"_\", \" \").title())\n",
    "\n",
    "plt.tight_layout()\n",
    "#plt.savefig('feature_vs_diagnosis_boxplots.png')\n",
    "#plt.close()"
   ]
  },
  {
   "cell_type": "markdown",
   "id": "3b2226bf",
   "metadata": {},
   "source": [
    "- **Observation:** `radius_mean` shows a clear separation:\n",
    "    - The **median** and **interquartile range (IQR)** for **Malignant tumors** are **significantly higher** than for **Benign tumors**.\n",
    "    - This feature is **highly predictive**.\n",
    "\n",
    "- **Observation:** `texture_mean` also shows a difference:\n",
    "    - However, the **overlap** between the two diagnoses is much **larger**, suggesting it is **less discriminatory** than `radius_mean`."
   ]
  },
  {
   "cell_type": "markdown",
   "id": "ad650c52",
   "metadata": {},
   "source": [
    "## 4. Model Building and Evaluation (Logistic Regression)"
   ]
  },
  {
   "cell_type": "markdown",
   "id": "8bb6b1bb",
   "metadata": {},
   "source": [
    "We choose Logistic Regression for its interpretability and its effectiveness on this linearly separable, binary classification problem."
   ]
  },
  {
   "cell_type": "code",
   "execution_count": 9,
   "id": "74b6ae01",
   "metadata": {
    "scrolled": true
   },
   "outputs": [
    {
     "name": "stdout",
     "output_type": "stream",
     "text": [
      "--- Classification Report ---\n",
      "               precision    recall  f1-score   support\n",
      "\n",
      "   Benign (0)       0.96      0.99      0.98       107\n",
      "Malignant (1)       0.98      0.94      0.96        64\n",
      "\n",
      "     accuracy                           0.97       171\n",
      "    macro avg       0.97      0.96      0.97       171\n",
      " weighted avg       0.97      0.97      0.97       171\n",
      "\n",
      "\n",
      "--- Confusion Matrix (True vs. Predicted) ---\n",
      "[[106   1]\n",
      " [  4  60]]\n",
      "\n",
      "--- ROC AUC Score: 0.9975 ---\n"
     ]
    },
    {
     "data": {
      "image/png": "[encoded data removed]",
      "text/plain": [
       "<Figure size 576x432 with 1 Axes>"
      ]
     },
     "metadata": {
      "needs_background": "light"
     },
     "output_type": "display_data"
    }
   ],
   "source": [
    "# --- Model Building and Training (Logistic Regression) ---\n",
    "log_reg_model = LogisticRegression(random_state=42, solver='liblinear')\n",
    "log_reg_model.fit(X_train_scaled, y_train)\n",
    "\n",
    "# --- Model Prediction ---\n",
    "y_pred = log_reg_model.predict(X_test_scaled)\n",
    "y_pred_proba = log_reg_model.predict_proba(X_test_scaled)[:, 1] # Probability of class 1 (Malignant)\n",
    "\n",
    "# --- Model Evaluation: Classification Report and AUC ---\n",
    "print(\"--- Classification Report ---\")\n",
    "report = classification_report(y_test, y_pred, target_names=['Benign (0)', 'Malignant (1)'])\n",
    "print(report)\n",
    "\n",
    "print(\"\\n--- Confusion Matrix (True vs. Predicted) ---\")\n",
    "cm = confusion_matrix(y_test, y_pred)\n",
    "print(cm)\n",
    "\n",
    "# Calculate AUC\n",
    "auc = roc_auc_score(y_test, y_pred_proba)\n",
    "print(f\"\\n--- ROC AUC Score: {auc:.4f} ---\")\n",
    "\n",
    "# --- Plotting the ROC Curve for Visualization ---\n",
    "fpr, tpr, thresholds = roc_curve(y_test, y_pred_proba)\n",
    "\n",
    "plt.figure(figsize=(8, 6))\n",
    "plt.plot(fpr, tpr, color='darkorange', lw=2, label=f'ROC curve (area = {auc:.2f})')\n",
    "plt.plot([0, 1], [0, 1], color='navy', lw=2, linestyle='--', label='Random Guess')\n",
    "plt.xlabel('False Positive Rate (1 - Specificity)')\n",
    "plt.ylabel('True Positive Rate (Sensitivity)')\n",
    "plt.title('Receiver Operating Characteristic (ROC) Curve')\n",
    "plt.legend(loc=\"lower right\")\n",
    "plt.grid(True)\n",
    "#plt.savefig('roc_curve.png')\n",
    "#plt.close()"
   ]
  },
  {
   "cell_type": "markdown",
   "id": "f58e12ee",
   "metadata": {},
   "source": [
    "| **Metric**        | **Score**  | **Insight**                                                                                     |\n",
    "|-------------------|------------|-------------------------------------------------------------------------------------------------|\n",
    "| Accuracy          | 0.97       | Overall correct predictions are very high.                                                      |\n",
    "| Malignant Recall  | 0.94       | Of all actual Malignant cases, 94% were correctly identified. This is critical, as missing a Malignant case (False Negative) is a severe error. |\n",
    "| Malignant Precision | 0.98     | When the model predicts Malignant, it is correct 98% of the time.                               |\n",
    "| ROC AUC Score     | 0.9975     | A near-perfect score, indicating the model is highly capable of distinguishing between the two classes. |"
   ]
  },
  {
   "cell_type": "markdown",
   "id": "d405f5e2",
   "metadata": {},
   "source": [
    "True Negatives (TN): 106 Benign cases correctly predicted.\n",
    "\n",
    "False Positives (FP): 1 Benign case incorrectly predicted as Malignant.\n",
    "\n",
    "False Negatives (FN): 4 Malignant cases incorrectly predicted as Benign.\n",
    "Area for Improvement (though very small).\n",
    "\n",
    "True Positives (TP): 60 Malignant cases correctly predicted."
   ]
  },
  {
   "cell_type": "markdown",
   "id": "7b2c2b71",
   "metadata": {},
   "source": [
    "## 5. Model Interpretation: Feature Importance"
   ]
  },
  {
   "cell_type": "markdown",
   "id": "a0845774",
   "metadata": {},
   "source": [
    "For Logistic Regression, the coefficients of the standardized features represent their predictive strength and direction. A larger positive coefficient means a feature's increase makes the tumor more likely to be Malignant."
   ]
  },
  {
   "cell_type": "code",
   "execution_count": 11,
   "id": "177ec989",
   "metadata": {},
   "outputs": [
    {
     "name": "stdout",
     "output_type": "stream",
     "text": [
      "\n",
      "--- Top 10 Most Influential Features (Absolute Coefficient Value) ---\n",
      "| Feature             |   Coefficient |\n",
      "|:--------------------|--------------:|\n",
      "| texture_worst       |      1.374    |\n",
      "| radius_se           |      1.21432  |\n",
      "| symmetry_worst      |      1.0772   |\n",
      "| area_se             |      0.941225 |\n",
      "| compactness_se      |     -0.913868 |\n",
      "| area_worst          |      0.908859 |\n",
      "| concave points_mean |      0.859029 |\n",
      "| radius_worst        |      0.844973 |\n",
      "| concavity_worst     |      0.831026 |\n",
      "| concavity_mean      |      0.822359 |\n"
     ]
    },
    {
     "data": {
      "image/png": "[encoded data removed]",
      "text/plain": [
       "<Figure size 720x432 with 1 Axes>"
      ]
     },
     "metadata": {
      "needs_background": "light"
     },
     "output_type": "display_data"
    }
   ],
   "source": [
    "# Create a DataFrame for easy coefficient viewing\n",
    "coefficients = pd.DataFrame({\n",
    "    'Feature': X_train.columns,\n",
    "    'Coefficient': log_reg_model.coef_[0]\n",
    "}).sort_values(by='Coefficient', ascending=False)\n",
    "\n",
    "# Select top 10 most influential features (based on absolute coefficient value)\n",
    "coefficients['Absolute_Coefficient'] = np.abs(coefficients['Coefficient'])\n",
    "top_10_abs_coeff = coefficients.sort_values(by='Absolute_Coefficient', ascending=False).head(10)\n",
    "\n",
    "print(\"\\n--- Top 10 Most Influential Features (Absolute Coefficient Value) ---\")\n",
    "print(top_10_abs_coeff[['Feature', 'Coefficient']].to_markdown(index=False))\n",
    "\n",
    "# --- Plot Feature Coefficients ---\n",
    "plt.figure(figsize=(10, 6))\n",
    "# Sort by coefficient value for visual comparison of magnitude and sign\n",
    "sns.barplot(x='Coefficient', y='Feature', data=top_10_abs_coeff.sort_values(by='Coefficient', ascending=False), palette='vlag')\n",
    "plt.title('Top 10 Most Influential Features (Logistic Regression Coefficients)')\n",
    "plt.xlabel('Standardized Coefficient Value')\n",
    "plt.ylabel('Feature')\n",
    "plt.tight_layout()\n",
    "#plt.savefig('feature_coefficients.png')\n",
    "#plt.close()"
   ]
  },
  {
   "cell_type": "markdown",
   "id": "07af21ec",
   "metadata": {},
   "source": [
    "## Feature Importance Analysis"
   ]
  },
  {
   "cell_type": "markdown",
   "id": "62b50825",
   "metadata": {},
   "source": [
    "| **Feature**         | **Coefficient** | **Interpretation**                                                                                                             |\n",
    "|---------------------|-----------------|--------------------------------------------------------------------------------------------------------------------------------|\n",
    "| texture_worst       | 1.374           | This is the strongest predictor. A one standard deviation increase in worst (largest) tumor texture increases the log-odds of the tumor being Malignant by 1.374. |\n",
    "| radius_se           | 1.214           | The Standard Error (SE) of the radius (variation in tumor size) is a critical indicator. Higher variation strongly predicts Malignancy. |\n",
    "| symmetry_worst      | 1.077           | The worst (largest) tumor symmetry is highly predictive, suggesting a higher degree of irregularity in the final stage of the tumor's boundary. |\n",
    "| compactness_se      | −0.914          | This is the strongest negative predictor. A one standard deviation increase in the Standard Error of compactness makes the tumor less likely to be Malignant. |"
   ]
  },
  {
   "cell_type": "markdown",
   "id": "2e62289f",
   "metadata": {},
   "source": [
    "The analysis confirms that features representing the size ($\\text{radius}$), texture, and irregularity ($\\text{symmetry, concave points}$) of the tumor, particularly in the standard error ($\\text{se}$) and worst ($\\text{worst}$) phases, are the most influential factors in determining a Malignant diagnosis."
   ]
  },
  {
   "cell_type": "code",
   "execution_count": null,
   "id": "74a4a722",
   "metadata": {},
   "outputs": [],
   "source": []
  },
  {
   "cell_type": "code",
   "execution_count": null,
   "id": "420c9526",
   "metadata": {},
   "outputs": [],
   "source": []
  },
  {
   "cell_type": "code",
   "execution_count": null,
   "id": "6aa7b663",
   "metadata": {},
   "outputs": [],
   "source": []
  },
  {
   "cell_type": "code",
   "execution_count": null,
   "id": "42b53fed",
   "metadata": {},
   "outputs": [],
   "source": []
  },
  {
   "cell_type": "code",
   "execution_count": null,
   "id": "b63324cd",
   "metadata": {},
   "outputs": [],
   "source": []
  }
 ],
 "metadata": {
  "kernelspec": {
   "display_name": "Python 3 (ipykernel)",
   "language": "python",
   "name": "python3"
  },
  "language_info": {
   "codemirror_mode": {
    "name": "ipython",
    "version": 3
   },
   "file_extension": ".py",
   "mimetype": "text/x-python",
   "name": "python",
   "nbconvert_exporter": "python",
   "pygments_lexer": "ipython3",
   "version": "3.9.12"
  }
 },
 "nbformat": 4,
 "nbformat_minor": 5
}
