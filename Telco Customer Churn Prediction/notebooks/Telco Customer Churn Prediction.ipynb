{
 "cells": [
  {
   "cell_type": "markdown",
   "id": "f3e8bb27",
   "metadata": {},
   "source": [
    "#Telco Customer Churn Prediction: A Data Science Project\n",
    "\n",
    "1. Project Goal and Setup\n",
    "\n",
    "The objective of this project is to build a classification model that predicts whether a Telco customer will churn (i.e., cancel their service). This is a critical business problem, as retaining existing customers is often more cost-effective than acquiring new ones.\n",
    "\n",
    "We will use a Random Forest Classifier within a Scikit-learn Pipeline to ensure robust and reproducible data preprocessing and model training."
   ]
  },
  {
   "cell_type": "markdown",
   "id": "06760d83",
   "metadata": {},
   "source": [
    "# Import Libraries"
   ]
  },
  {
   "cell_type": "code",
   "execution_count": 1,
   "id": "65abf00f",
   "metadata": {},
   "outputs": [],
   "source": [
    "import pandas as pd\n",
    "import numpy as np\n",
    "import matplotlib.pyplot as plt\n",
    "import seaborn as sns\n",
    "from sklearn.model_selection import train_test_split\n",
    "from sklearn.preprocessing import StandardScaler, OneHotEncoder\n",
    "from sklearn.compose import ColumnTransformer\n",
    "from sklearn.pipeline import Pipeline\n",
    "from sklearn.ensemble import RandomForestClassifier\n",
    "from sklearn.metrics import classification_report, roc_auc_score, roc_curve, confusion_matrix"
   ]
  },
  {
   "cell_type": "markdown",
   "id": "3fb101c6",
   "metadata": {},
   "source": [
    "# Load the Dataset"
   ]
  },
  {
   "cell_type": "code",
   "execution_count": 2,
   "id": "95de16d9",
   "metadata": {},
   "outputs": [
    {
     "name": "stdout",
     "output_type": "stream",
     "text": [
      "Initial Data Shape: (7043, 21)\n",
      "\n",
      "Initial Data Types:\n",
      "customerID           object\n",
      "gender               object\n",
      "SeniorCitizen         int64\n",
      "Partner              object\n",
      "Dependents           object\n",
      "tenure                int64\n",
      "PhoneService         object\n",
      "MultipleLines        object\n",
      "InternetService      object\n",
      "OnlineSecurity       object\n",
      "OnlineBackup         object\n",
      "DeviceProtection     object\n",
      "TechSupport          object\n",
      "StreamingTV          object\n",
      "StreamingMovies      object\n",
      "Contract             object\n",
      "PaperlessBilling     object\n",
      "PaymentMethod        object\n",
      "MonthlyCharges      float64\n",
      "TotalCharges         object\n",
      "Churn                object\n",
      "dtype: object\n"
     ]
    }
   ],
   "source": [
    "# Load the dataset from the attached file\n",
    "df = pd.read_csv(\"WA_Fn-UseC_-Telco-Customer-Churn.csv\")\n",
    "\n",
    "print(\"Initial Data Shape:\", df.shape)\n",
    "print(\"\\nInitial Data Types:\")\n",
    "print(df.dtypes)"
   ]
  },
  {
   "cell_type": "markdown",
   "id": "06b87df5",
   "metadata": {},
   "source": [
    "# 2. Data Cleaning and Preprocessing"
   ]
  },
  {
   "cell_type": "markdown",
   "id": "db463fc0",
   "metadata": {},
   "source": [
    "We address data quality issues, handle missing values, and prepare the data for the machine learning model."
   ]
  },
  {
   "cell_type": "code",
   "execution_count": 3,
   "id": "07cb108e",
   "metadata": {},
   "outputs": [
    {
     "name": "stdout",
     "output_type": "stream",
     "text": [
      "\n",
      "Data shape after handling TotalCharges NaNs: (7032, 21)\n",
      "\n",
      "--- Cleaned Data Overview ---\n",
      "<class 'pandas.core.frame.DataFrame'>\n",
      "Int64Index: 7032 entries, 0 to 7042\n",
      "Data columns (total 20 columns):\n",
      " #   Column            Non-Null Count  Dtype  \n",
      "---  ------            --------------  -----  \n",
      " 0   gender            7032 non-null   object \n",
      " 1   SeniorCitizen     7032 non-null   int64  \n",
      " 2   Partner           7032 non-null   object \n",
      " 3   Dependents        7032 non-null   object \n",
      " 4   tenure            7032 non-null   int64  \n",
      " 5   PhoneService      7032 non-null   object \n",
      " 6   MultipleLines     7032 non-null   object \n",
      " 7   InternetService   7032 non-null   object \n",
      " 8   OnlineSecurity    7032 non-null   object \n",
      " 9   OnlineBackup      7032 non-null   object \n",
      " 10  DeviceProtection  7032 non-null   object \n",
      " 11  TechSupport       7032 non-null   object \n",
      " 12  StreamingTV       7032 non-null   object \n",
      " 13  StreamingMovies   7032 non-null   object \n",
      " 14  Contract          7032 non-null   object \n",
      " 15  PaperlessBilling  7032 non-null   object \n",
      " 16  PaymentMethod     7032 non-null   object \n",
      " 17  MonthlyCharges    7032 non-null   float64\n",
      " 18  TotalCharges      7032 non-null   float64\n",
      " 19  Churn             7032 non-null   int64  \n",
      "dtypes: float64(2), int64(3), object(15)\n",
      "memory usage: 1.1+ MB\n",
      "None\n"
     ]
    }
   ],
   "source": [
    "# --- 2.1. Handling 'TotalCharges' ---\n",
    "# The 'TotalCharges' column is mistakenly read as an object (string).\n",
    "# Convert it to numeric, coercing non-numeric values (like ' ' in records with 0 tenure) to NaN.\n",
    "df['TotalCharges'] = pd.to_numeric(df['TotalCharges'], errors='coerce')\n",
    "\n",
    "# Drop rows with NaN values in TotalCharges (11 rows, representing customers with 0 tenure)\n",
    "df.dropna(subset=['TotalCharges'], inplace=True)\n",
    "print(f\"\\nData shape after handling TotalCharges NaNs: {df.shape}\")\n",
    "\n",
    "# --- 2.2. Dropping Identifier and Encoding Target ---\n",
    "# Drop the customerID column as it is a unique identifier\n",
    "df.drop('customerID', axis=1, inplace=True)\n",
    "\n",
    "# Convert the target variable 'Churn' to a numerical label (No=0, Yes=1)\n",
    "df['Churn'] = df['Churn'].map({'No': 0, 'Yes': 1})\n",
    "\n",
    "print(\"\\n--- Cleaned Data Overview ---\")\n",
    "print(df.info())"
   ]
  },
  {
   "cell_type": "markdown",
   "id": "326aeb2d",
   "metadata": {},
   "source": [
    "# 3. Exploratory Data Analysis (EDA)"
   ]
  },
  {
   "cell_type": "markdown",
   "id": "45702922",
   "metadata": {},
   "source": [
    "Visualizing key features helps us understand the drivers of churn and provides valuable business insights.\n",
    "\n",
    "Plot 1: Target Variable Distribution\n",
    "The data is imbalanced, with far more non-churning customers (0) than churning customers (1). We must account for this during modeling."
   ]
  },
  {
   "cell_type": "code",
   "execution_count": 4,
   "id": "0b0757a2",
   "metadata": {},
   "outputs": [
    {
     "data": {
      "image/png": "[encoded data removed]",
      "text/plain": [
       "<Figure size 432x288 with 1 Axes>"
      ]
     },
     "metadata": {
      "needs_background": "light"
     },
     "output_type": "display_data"
    }
   ],
   "source": [
    "plt.figure(figsize=(6, 4))\n",
    "sns.countplot(x='Churn', data=df)\n",
    "plt.title('Target Variable Distribution (Churn)')\n",
    "plt.xticks([0, 1], ['No Churn', 'Churn'])\n",
    "plt.show()"
   ]
  },
  {
   "cell_type": "markdown",
   "id": "485eef4a",
   "metadata": {},
   "source": [
    "Plot 2: Churn Rate by Contract Type (Key Driver)\n",
    "\n",
    "This is a critical insight: Month-to-month contracts have an alarmingly high churn rate."
   ]
  },
  {
   "cell_type": "code",
   "execution_count": 6,
   "id": "ca0a44d4",
   "metadata": {
    "scrolled": true
   },
   "outputs": [
    {
     "data": {
      "image/png": "[encoded data removed]",
      "text/plain": [
       "<Figure size 576x360 with 1 Axes>"
      ]
     },
     "metadata": {
      "needs_background": "light"
     },
     "output_type": "display_data"
    }
   ],
   "source": [
    "plt.figure(figsize=(8, 5))\n",
    "sns.barplot(x='Contract', y='Churn', data=df, palette='viridis')\n",
    "plt.title('Churn Rate by Contract Type')\n",
    "plt.ylabel('Churn Rate (Probability)')\n",
    "plt.show()"
   ]
  },
  {
   "cell_type": "markdown",
   "id": "7a302662",
   "metadata": {},
   "source": [
    "Plot 3: Tenure Distribution vs. Churn\n",
    "\n",
    "Customers who churn tend to be new customers with low tenure. This suggests the highest risk is early in the customer lifecycle."
   ]
  },
  {
   "cell_type": "code",
   "execution_count": 7,
   "id": "8c89ee31",
   "metadata": {},
   "outputs": [
    {
     "data": {
      "image/png": "[encoded data removed]",
      "text/plain": [
       "<Figure size 576x360 with 1 Axes>"
      ]
     },
     "metadata": {
      "needs_background": "light"
     },
     "output_type": "display_data"
    }
   ],
   "source": [
    "plt.figure(figsize=(8, 5))\n",
    "sns.histplot(data=df, x='tenure', hue='Churn', multiple='stack', bins=30, kde=True)\n",
    "plt.title('Tenure Distribution for Churn vs. Non-Churn')\n",
    "plt.xlabel('Tenure (Months)')\n",
    "plt.show()"
   ]
  },
  {
   "cell_type": "markdown",
   "id": "f3fa5fba",
   "metadata": {},
   "source": [
    "# 4. Feature Engineering and Model Pipeline"
   ]
  },
  {
   "cell_type": "markdown",
   "id": "5896e9ad",
   "metadata": {},
   "source": [
    " We use Scikit-learn's Pipeline and ColumnTransformer to automate data scaling and encoding. This is best practice for production ML systems."
   ]
  },
  {
   "cell_type": "code",
   "execution_count": 10,
   "id": "beee86c6",
   "metadata": {},
   "outputs": [],
   "source": [
    "# Define features (X) and target (y)\n",
    "X = df.drop('Churn', axis=1)\n",
    "y = df['Churn']\n",
    "\n",
    "# Split data into training and testing sets (Stratify to maintain Churn proportion)\n",
    "X_train, X_test, y_train, y_test = train_test_split(X, y, test_size=0.2, random_state=42, stratify=y)\n",
    "\n",
    "# Define feature types\n",
    "numerical_features = ['tenure', 'MonthlyCharges', 'TotalCharges']\n",
    "categorical_features = X.columns.drop(numerical_features).tolist()\n",
    "\n",
    "# Create Preprocessing Pipeline using ColumnTransformer\n",
    "# Numerical features are scaled (StandardScaler)\n",
    "# Categorical features are one-hot encoded (OneHotEncoder)\n",
    "preprocessor = ColumnTransformer(\n",
    "    transformers=[\n",
    "        ('num', StandardScaler(), numerical_features),\n",
    "        ('cat', OneHotEncoder(handle_unknown='ignore'), categorical_features)\n",
    "    ],\n",
    "    remainder='passthrough'\n",
    ")"
   ]
  },
  {
   "cell_type": "markdown",
   "id": "debef115",
   "metadata": {},
   "source": [
    "# --- 5. Model Building (Random Forest Classifier) ---"
   ]
  },
  {
   "cell_type": "code",
   "execution_count": 11,
   "id": "66514a09",
   "metadata": {},
   "outputs": [],
   "source": [
    "# Initialize a Random Forest model with 'balanced' class weight to mitigate imbalance\n",
    "rf_model = RandomForestClassifier(\n",
    "    n_estimators=100,\n",
    "    max_depth=10,\n",
    "    random_state=42,\n",
    "    class_weight='balanced' # Crucial for imbalanced data\n",
    ")"
   ]
  },
  {
   "cell_type": "code",
   "execution_count": 12,
   "id": "3184228b",
   "metadata": {},
   "outputs": [],
   "source": [
    "# Create the final machine learning pipeline\n",
    "model = Pipeline(steps=[\n",
    "    ('preprocessor', preprocessor),\n",
    "    ('classifier', rf_model)\n",
    "])"
   ]
  },
  {
   "cell_type": "code",
   "execution_count": 13,
   "id": "42a8fcb0",
   "metadata": {},
   "outputs": [
    {
     "name": "stdout",
     "output_type": "stream",
     "text": [
      "\n",
      "--- Training Model: Random Forest Classifier ---\n",
      "Model training complete.\n"
     ]
    }
   ],
   "source": [
    "# Train the model\n",
    "print(\"\\n--- Training Model: Random Forest Classifier ---\")\n",
    "model.fit(X_train, y_train)\n",
    "print(\"Model training complete.\")"
   ]
  },
  {
   "cell_type": "markdown",
   "id": "3cf999e3",
   "metadata": {},
   "source": [
    "# 5. Model Evaluation"
   ]
  },
  {
   "cell_type": "markdown",
   "id": "f2e5cb8d",
   "metadata": {},
   "source": [
    "We evaluate the model using metrics important for classification, focusing on the ROC-AUC score and Recall (to correctly identify customers who will churn)."
   ]
  },
  {
   "cell_type": "code",
   "execution_count": 14,
   "id": "be98a6be",
   "metadata": {},
   "outputs": [
    {
     "name": "stdout",
     "output_type": "stream",
     "text": [
      "\n",
      "--- Model Evaluation (Random Forest Classifier) ---\n",
      "\n",
      "Classification Report:\n",
      "              precision    recall  f1-score   support\n",
      "\n",
      "           0       0.89      0.78      0.83      1033\n",
      "           1       0.54      0.72      0.62       374\n",
      "\n",
      "    accuracy                           0.76      1407\n",
      "   macro avg       0.71      0.75      0.72      1407\n",
      "weighted avg       0.79      0.76      0.77      1407\n",
      "\n",
      "ROC-AUC Score: 0.8315\n"
     ]
    }
   ],
   "source": [
    "# Predict on the test set\n",
    "y_pred = model.predict(X_test)\n",
    "y_proba = model.predict_proba(X_test)[:, 1]\n",
    "\n",
    "# Calculate and print metrics\n",
    "roc_auc = roc_auc_score(y_test, y_proba)\n",
    "\n",
    "print(\"\\n--- Model Evaluation (Random Forest Classifier) ---\")\n",
    "print(\"\\nClassification Report:\")\n",
    "print(classification_report(y_test, y_pred))\n",
    "print(f\"ROC-AUC Score: {roc_auc:.4f}\")"
   ]
  },
  {
   "cell_type": "markdown",
   "id": "3246a360",
   "metadata": {},
   "source": [
    "### Interpretation of Model Performance\n",
    "\n",
    "This Random Forest model is a strong candidate for a production churn prediction system, primarily because it was tuned to effectively handle class imbalance using `class_weight='balanced'`.\n",
    "\n",
    "* **ROC-AUC Score (0.8315):** This excellent score indicates the model's strong ability to correctly rank customers by their probability of churn.\n",
    "* **Churn Recall (72%):** The high Recall for the Churn class (`1`) is the most important business metric here. It means the model successfully identifies **72% of all actual churners**, minimizing the number of missed opportunities for intervention (False Negatives).\n",
    "* **Precision (54%):** While Precision is lower, it means 54% of the customers flagged for intervention will actually churn. This is an acceptable trade-off for the high Recall, as the cost of offering a retention incentive to a False Positive is usually much lower than the lost revenue from a False Negative."
   ]
  },
  {
   "cell_type": "markdown",
   "id": "e9ac3443",
   "metadata": {},
   "source": [
    "Plot 4: Confusion Matrix\n",
    "\n",
    "This visualization shows the True Positives, True Negatives, False Positives, and False Negatives."
   ]
  },
  {
   "cell_type": "code",
   "execution_count": 15,
   "id": "2c9e5da7",
   "metadata": {},
   "outputs": [
    {
     "data": {
      "image/png": "[encoded data removed]",
      "text/plain": [
       "<Figure size 432x360 with 2 Axes>"
      ]
     },
     "metadata": {
      "needs_background": "light"
     },
     "output_type": "display_data"
    }
   ],
   "source": [
    "# Plot Confusion Matrix\n",
    "cm = confusion_matrix(y_test, y_pred)\n",
    "plt.figure(figsize=(6, 5))\n",
    "sns.heatmap(cm, annot=True, fmt='d', cmap='Blues',\n",
    "            xticklabels=['No Churn (0)', 'Churn (1)'],\n",
    "            yticklabels=['No Churn (0)', 'Churn (1)'])\n",
    "plt.title('Confusion Matrix: Random Forest')\n",
    "plt.ylabel('Actual Label')\n",
    "plt.xlabel('Predicted Label')\n",
    "plt.show()"
   ]
  },
  {
   "cell_type": "markdown",
   "id": "09a7196d",
   "metadata": {},
   "source": [
    "Plot 5: ROC Curve"
   ]
  },
  {
   "cell_type": "code",
   "execution_count": 16,
   "id": "49d1e999",
   "metadata": {},
   "outputs": [
    {
     "data": {
      "image/png": "[encoded data removed]",
      "text/plain": [
       "<Figure size 432x360 with 1 Axes>"
      ]
     },
     "metadata": {
      "needs_background": "light"
     },
     "output_type": "display_data"
    }
   ],
   "source": [
    "fpr, tpr, thresholds = roc_curve(y_test, y_proba)\n",
    "plt.figure(figsize=(6, 5))\n",
    "plt.plot(fpr, tpr, color='orange', label=f'ROC Curve (AUC = {roc_auc:.4f})')\n",
    "plt.plot([0, 1], [0, 1], color='navy', linestyle='--')\n",
    "plt.xlabel('False Positive Rate')\n",
    "plt.ylabel('True Positive Rate')\n",
    "plt.title('Receiver Operating Characteristic (ROC) Curve')\n",
    "plt.legend()\n",
    "plt.show()"
   ]
  },
  {
   "cell_type": "markdown",
   "id": "7d59282c",
   "metadata": {},
   "source": [
    "# 6. Insights: Feature Importance"
   ]
  },
  {
   "cell_type": "markdown",
   "id": "0dd349aa",
   "metadata": {},
   "source": [
    "Identifying the most important features is crucial for providing actionable recommendations to the business."
   ]
  },
  {
   "cell_type": "code",
   "execution_count": 17,
   "id": "c386e8b0",
   "metadata": {},
   "outputs": [
    {
     "data": {
      "image/png": "[encoded data removed]",
      "text/plain": [
       "<Figure size 720x432 with 1 Axes>"
      ]
     },
     "metadata": {
      "needs_background": "light"
     },
     "output_type": "display_data"
    }
   ],
   "source": [
    "# Get feature names after one-hot encoding and scaling\n",
    "one_hot_features = list(model.named_steps['preprocessor'].named_transformers_['cat'].get_feature_names_out(categorical_features))\n",
    "feature_names_transformed = numerical_features + one_hot_features\n",
    "feature_importances = model.named_steps['classifier'].feature_importances_\n",
    "\n",
    "# Create a Series for easy sorting and plotting\n",
    "importance_df = pd.Series(feature_importances, index=feature_names_transformed).sort_values(ascending=False)\n",
    "\n",
    "# Plot top 10 features\n",
    "plt.figure(figsize=(10, 6))\n",
    "importance_df[:10].sort_values(ascending=True).plot(kind='barh')\n",
    "plt.title('Top 10 Feature Importances (Random Forest)')\n",
    "plt.show()"
   ]
  },
  {
   "cell_type": "markdown",
   "id": "bb4fd951",
   "metadata": {},
   "source": [
    "### Actionable Business Recommendations Based on Feature Importance\n",
    "\n",
    "The feature importance analysis is the most critical step, as it provides clear directives for the Telco's marketing and product teams:\n",
    "\n",
    "1.  **Contract Term is the Single Biggest Driver (Contract\\_Month-to-month):**\n",
    "    * **Insight:** Month-to-month contracts have, by far, the highest risk of churn. This relationship is highly predictive.\n",
    "    * **Recommendation:** Implement aggressive, targeted promotions (e.g., discounts, better rates) to encourage customers currently on month-to-month contracts to switch to one- or two-year commitments.\n",
    "2.  **Early Customer Lifecycle Risk (tenure & TotalCharges):**\n",
    "    * **Insight:** Low tenure (new customers) is a major churn risk. Furthermore, lower total spending (`TotalCharges`) is predictive of leaving.\n",
    "    * **Recommendation:** Design a **\"New Customer Onboarding & Retention Program\"** (e.g., a customer success call, special support access) specifically for customers in their first 6-12 months.\n",
    "3.  **Service Quality Check (InternetService\\_Fiber optic):**\n",
    "    * **Insight:** Fiber Optic service subscribers show an elevated propensity to churn.\n",
    "    * **Recommendation:** Conduct an immediate investigation into the Fiber Optic service line—this could indicate localized issues with **network reliability** or **customer support wait times** specific to this premium product tier.\n",
    "4.  **Tech Support Gaps (OnlineSecurity & TechSupport):**\n",
    "    * **Insight:** The lack of premium add-on services like `OnlineSecurity` and `TechSupport` is a significant predictor of churn, suggesting these customers feel vulnerable or unsupported.\n",
    "    * **Recommendation:** Bundle free or heavily discounted Tech Support and Security services for the first 3-6 months to demonstrate value and increase product stickiness."
   ]
  },
  {
   "cell_type": "code",
   "execution_count": null,
   "id": "191447bd",
   "metadata": {},
   "outputs": [],
   "source": []
  },
  {
   "cell_type": "code",
   "execution_count": null,
   "id": "ee61d57e",
   "metadata": {},
   "outputs": [],
   "source": []
  }
 ],
 "metadata": {
  "kernelspec": {
   "display_name": "Python 3 (ipykernel)",
   "language": "python",
   "name": "python3"
  },
  "language_info": {
   "codemirror_mode": {
    "name": "ipython",
    "version": 3
   },
   "file_extension": ".py",
   "mimetype": "text/x-python",
   "name": "python",
   "nbconvert_exporter": "python",
   "pygments_lexer": "ipython3",
   "version": "3.9.12"
  }
 },
 "nbformat": 4,
 "nbformat_minor": 5
}
